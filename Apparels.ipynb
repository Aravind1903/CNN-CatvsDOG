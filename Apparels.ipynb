{
 "cells": [
  {
   "cell_type": "code",
   "execution_count": 64,
   "metadata": {},
   "outputs": [],
   "source": [
    "import tensorflow as tf\n",
    "import tensorflow.keras\n",
    "import os\n",
    "import matplotlib.pyplot as plt\n",
    "from tensorflow.keras.preprocessing.image import ImageDataGenerator\n",
    "import pandas as pd\n",
    "from tensorflow.keras import models\n",
    "from tensorflow.keras import layers\n",
    "from sklearn.metrics import confusion_matrix,classification_report\n",
    "from tensorflow.keras.preprocessing.image import img_to_array\n",
    "from tensorflow.keras.preprocessing import image\n",
    "from tensorflow.keras.utils import to_categorical\n",
    "import numpy as np\n"
   ]
  },
  {
   "cell_type": "code",
   "execution_count": 2,
   "metadata": {},
   "outputs": [],
   "source": [
    "train_dir='D:/Data_Science/DS_Project/Apreal/train/'\n",
    "test_dir='D:/Data_Science/DS_Project/Apreal/test/'"
   ]
  },
  {
   "cell_type": "code",
   "execution_count": 3,
   "metadata": {},
   "outputs": [],
   "source": [
    "train_image=ImageDataGenerator(1/255)"
   ]
  },
  {
   "cell_type": "code",
   "execution_count": 4,
   "metadata": {},
   "outputs": [
    {
     "data": {
      "text/plain": [
       "60000"
      ]
     },
     "execution_count": 4,
     "metadata": {},
     "output_type": "execute_result"
    }
   ],
   "source": [
    "len(os.listdir(train_dir))"
   ]
  },
  {
   "cell_type": "code",
   "execution_count": 5,
   "metadata": {},
   "outputs": [
    {
     "data": {
      "text/plain": [
       "10000"
      ]
     },
     "execution_count": 5,
     "metadata": {},
     "output_type": "execute_result"
    }
   ],
   "source": [
    "len(os.listdir(test_dir))"
   ]
  },
  {
   "cell_type": "code",
   "execution_count": 7,
   "metadata": {},
   "outputs": [],
   "source": [
    "xtrain=[]\n",
    "for i in range(40000):\n",
    "    i=i+1\n",
    "    dir=train_dir+str(i)+'.png'\n",
    "    img=image.load_img(dir)\n",
    "    img=img_to_array(img)/255\n",
    "    img=img[:,:,0]\n",
    "    xtrain.append(img)"
   ]
  },
  {
   "cell_type": "code",
   "execution_count": 9,
   "metadata": {},
   "outputs": [],
   "source": [
    "xtest=[]\n",
    "for i in range(20000):\n",
    "    i=i+40001\n",
    "    dir=train_dir+str(i)+'.png'\n",
    "    img=image.load_img(dir)\n",
    "    img=img_to_array(img)/255\n",
    "    img=img[:,:,0]\n",
    "    xtest.append(img)"
   ]
  },
  {
   "cell_type": "code",
   "execution_count": 16,
   "metadata": {},
   "outputs": [],
   "source": [
    "df=np.array(xtrain)"
   ]
  },
  {
   "cell_type": "code",
   "execution_count": 24,
   "metadata": {},
   "outputs": [
    {
     "data": {
      "text/plain": [
       "(60000, 28, 28)"
      ]
     },
     "execution_count": 24,
     "metadata": {},
     "output_type": "execute_result"
    }
   ],
   "source": [
    "df.shape"
   ]
  },
  {
   "cell_type": "code",
   "execution_count": 25,
   "metadata": {},
   "outputs": [],
   "source": [
    "data=df.reshape(60000,28*28)"
   ]
  },
  {
   "cell_type": "code",
   "execution_count": 27,
   "metadata": {},
   "outputs": [],
   "source": [
    "train=data[0:40000,:]\n",
    "test=data[40000:60000,:]"
   ]
  },
  {
   "cell_type": "code",
   "execution_count": 38,
   "metadata": {},
   "outputs": [
    {
     "data": {
      "text/plain": [
       "(40000, 784)"
      ]
     },
     "execution_count": 38,
     "metadata": {},
     "output_type": "execute_result"
    }
   ],
   "source": [
    "train.shape"
   ]
  },
  {
   "cell_type": "code",
   "execution_count": 42,
   "metadata": {},
   "outputs": [
    {
     "data": {
      "text/html": [
       "<div>\n",
       "<style scoped>\n",
       "    .dataframe tbody tr th:only-of-type {\n",
       "        vertical-align: middle;\n",
       "    }\n",
       "\n",
       "    .dataframe tbody tr th {\n",
       "        vertical-align: top;\n",
       "    }\n",
       "\n",
       "    .dataframe thead th {\n",
       "        text-align: right;\n",
       "    }\n",
       "</style>\n",
       "<table border=\"1\" class=\"dataframe\">\n",
       "  <thead>\n",
       "    <tr style=\"text-align: right;\">\n",
       "      <th></th>\n",
       "      <th>id</th>\n",
       "      <th>label</th>\n",
       "    </tr>\n",
       "  </thead>\n",
       "  <tbody>\n",
       "    <tr>\n",
       "      <th>0</th>\n",
       "      <td>1</td>\n",
       "      <td>9</td>\n",
       "    </tr>\n",
       "    <tr>\n",
       "      <th>1</th>\n",
       "      <td>2</td>\n",
       "      <td>0</td>\n",
       "    </tr>\n",
       "    <tr>\n",
       "      <th>2</th>\n",
       "      <td>3</td>\n",
       "      <td>0</td>\n",
       "    </tr>\n",
       "    <tr>\n",
       "      <th>3</th>\n",
       "      <td>4</td>\n",
       "      <td>3</td>\n",
       "    </tr>\n",
       "    <tr>\n",
       "      <th>4</th>\n",
       "      <td>5</td>\n",
       "      <td>0</td>\n",
       "    </tr>\n",
       "    <tr>\n",
       "      <th>...</th>\n",
       "      <td>...</td>\n",
       "      <td>...</td>\n",
       "    </tr>\n",
       "    <tr>\n",
       "      <th>39995</th>\n",
       "      <td>39996</td>\n",
       "      <td>7</td>\n",
       "    </tr>\n",
       "    <tr>\n",
       "      <th>39996</th>\n",
       "      <td>39997</td>\n",
       "      <td>4</td>\n",
       "    </tr>\n",
       "    <tr>\n",
       "      <th>39997</th>\n",
       "      <td>39998</td>\n",
       "      <td>0</td>\n",
       "    </tr>\n",
       "    <tr>\n",
       "      <th>39998</th>\n",
       "      <td>39999</td>\n",
       "      <td>0</td>\n",
       "    </tr>\n",
       "    <tr>\n",
       "      <th>39999</th>\n",
       "      <td>40000</td>\n",
       "      <td>0</td>\n",
       "    </tr>\n",
       "  </tbody>\n",
       "</table>\n",
       "<p>40000 rows × 2 columns</p>\n",
       "</div>"
      ],
      "text/plain": [
       "          id  label\n",
       "0          1      9\n",
       "1          2      0\n",
       "2          3      0\n",
       "3          4      3\n",
       "4          5      0\n",
       "...      ...    ...\n",
       "39995  39996      7\n",
       "39996  39997      4\n",
       "39997  39998      0\n",
       "39998  39999      0\n",
       "39999  40000      0\n",
       "\n",
       "[40000 rows x 2 columns]"
      ]
     },
     "execution_count": 42,
     "metadata": {},
     "output_type": "execute_result"
    }
   ],
   "source": []
  },
  {
   "cell_type": "code",
   "execution_count": 21,
   "metadata": {},
   "outputs": [],
   "source": [
    "train.to_csv('D:\\Data_Science\\DS_Project\\Apreal\\Appreal.csv')"
   ]
  },
  {
   "cell_type": "code",
   "execution_count": 44,
   "metadata": {},
   "outputs": [],
   "source": [
    "y_label=pd.read_csv(r'D:\\Data_Science\\DS_Project\\Apreal\\train.csv')"
   ]
  },
  {
   "cell_type": "code",
   "execution_count": 45,
   "metadata": {},
   "outputs": [],
   "source": [
    "y_train=to_categorical(y_label['label'])"
   ]
  },
  {
   "cell_type": "code",
   "execution_count": 46,
   "metadata": {},
   "outputs": [],
   "source": [
    "ytrain=y_train[0:40000]\n",
    "ytest=y_train[40000:60000]"
   ]
  },
  {
   "cell_type": "code",
   "execution_count": 50,
   "metadata": {},
   "outputs": [],
   "source": [
    "model=models.Sequential()"
   ]
  },
  {
   "cell_type": "code",
   "execution_count": 51,
   "metadata": {},
   "outputs": [],
   "source": [
    "model.add(layers.Dense(512,activation='relu',input_shape=(28*28,)))"
   ]
  },
  {
   "cell_type": "code",
   "execution_count": 52,
   "metadata": {},
   "outputs": [],
   "source": [
    "model.add(layers.Dense(10,activation='softmax'))\n",
    "model.compile(optimizer='rmsprop',loss='categorical_crossentropy',metrics=['accuracy'])"
   ]
  },
  {
   "cell_type": "code",
   "execution_count": 53,
   "metadata": {},
   "outputs": [
    {
     "data": {
      "text/plain": [
       "(40000, 10)"
      ]
     },
     "execution_count": 53,
     "metadata": {},
     "output_type": "execute_result"
    }
   ],
   "source": [
    "ytrain.shape"
   ]
  },
  {
   "cell_type": "code",
   "execution_count": 54,
   "metadata": {},
   "outputs": [
    {
     "data": {
      "text/plain": [
       "(40000, 784)"
      ]
     },
     "execution_count": 54,
     "metadata": {},
     "output_type": "execute_result"
    }
   ],
   "source": [
    "train.shape"
   ]
  },
  {
   "cell_type": "code",
   "execution_count": 75,
   "metadata": {},
   "outputs": [
    {
     "name": "stdout",
     "output_type": "stream",
     "text": [
      "Epoch 1/5\n",
      "334/334 [==============================] - 3s 8ms/step - loss: 0.2876 - accuracy: 0.8914\n",
      "Epoch 2/5\n",
      "334/334 [==============================] - 2s 7ms/step - loss: 0.2735 - accuracy: 0.9001\n",
      "Epoch 3/5\n",
      "334/334 [==============================] - 2s 7ms/step - loss: 0.2576 - accuracy: 0.9061\n",
      "Epoch 4/5\n",
      "334/334 [==============================] - 2s 7ms/step - loss: 0.2494 - accuracy: 0.9066\n",
      "Epoch 5/5\n",
      "334/334 [==============================] - 3s 9ms/step - loss: 0.2369 - accuracy: 0.9122\n"
     ]
    },
    {
     "data": {
      "text/plain": [
       "<tensorflow.python.keras.callbacks.History at 0x1bb166d1c70>"
      ]
     },
     "execution_count": 75,
     "metadata": {},
     "output_type": "execute_result"
    }
   ],
   "source": [
    "model.fit(train,ytrain,epochs=5,batch_size=120) # this was executed twice hence there was overfitting observed and test score went down"
   ]
  },
  {
   "cell_type": "code",
   "execution_count": 76,
   "metadata": {},
   "outputs": [],
   "source": [
    "predict=model.predict(test)"
   ]
  },
  {
   "cell_type": "code",
   "execution_count": 77,
   "metadata": {},
   "outputs": [],
   "source": [
    "prediction=predict.argmax(axis=1)"
   ]
  },
  {
   "cell_type": "code",
   "execution_count": 78,
   "metadata": {},
   "outputs": [
    {
     "data": {
      "text/plain": [
       "20000"
      ]
     },
     "execution_count": 78,
     "metadata": {},
     "output_type": "execute_result"
    }
   ],
   "source": [
    "len(prediction)"
   ]
  },
  {
   "cell_type": "code",
   "execution_count": 79,
   "metadata": {},
   "outputs": [
    {
     "data": {
      "text/plain": [
       "array([[1746,    0,   36,   24,    1,    2,  319,    0,    5,    0],\n",
       "       [  56, 1989,   21,  158,   51,    0,   39,    0,    3,    0],\n",
       "       [  39,    1, 1315,    3,   38,    0,  147,    0,    1,    0],\n",
       "       [  60,   12,   20, 1630,   15,    0,   47,    0,    3,    0],\n",
       "       [  17,    0,  617,  145, 1921,    0,  512,    0,   18,    0],\n",
       "       [   1,    0,    0,    0,    0, 1928,    0,   29,    5,   24],\n",
       "       [  82,    1,   36,    9,   11,    0,  839,    0,    1,    0],\n",
       "       [   0,    0,    0,    0,    0,   38,    0, 1914,    9,  198],\n",
       "       [  17,    1,   20,    9,    6,    6,   31,    2, 1954,    0],\n",
       "       [   1,    0,    0,    0,    0,    9,    0,   13,    1, 1794]],\n",
       "      dtype=int64)"
      ]
     },
     "execution_count": 79,
     "metadata": {},
     "output_type": "execute_result"
    }
   ],
   "source": [
    "confusion_matrix(prediction,ytest.argmax(axis=1))"
   ]
  },
  {
   "cell_type": "code",
   "execution_count": 80,
   "metadata": {},
   "outputs": [
    {
     "name": "stdout",
     "output_type": "stream",
     "text": [
      "              precision    recall  f1-score   support\n",
      "\n",
      "           0       0.86      0.82      0.84      2133\n",
      "           1       0.99      0.86      0.92      2317\n",
      "           2       0.64      0.85      0.73      1544\n",
      "           3       0.82      0.91      0.87      1787\n",
      "           4       0.94      0.59      0.73      3230\n",
      "           5       0.97      0.97      0.97      1987\n",
      "           6       0.43      0.86      0.58       979\n",
      "           7       0.98      0.89      0.93      2159\n",
      "           8       0.98      0.96      0.97      2046\n",
      "           9       0.89      0.99      0.94      1818\n",
      "\n",
      "    accuracy                           0.85     20000\n",
      "   macro avg       0.85      0.87      0.85     20000\n",
      "weighted avg       0.89      0.85      0.86     20000\n",
      "\n"
     ]
    }
   ],
   "source": [
    "print(classification_report(prediction,ytest.argmax(axis=1)))"
   ]
  },
  {
   "cell_type": "code",
   "execution_count": 67,
   "metadata": {},
   "outputs": [],
   "source": [
    "from sklearn.linear_model import LogisticRegression"
   ]
  },
  {
   "cell_type": "code",
   "execution_count": 68,
   "metadata": {},
   "outputs": [],
   "source": [
    "lo=LogisticRegression()"
   ]
  },
  {
   "cell_type": "code",
   "execution_count": 70,
   "metadata": {},
   "outputs": [
    {
     "name": "stderr",
     "output_type": "stream",
     "text": [
      "C:\\Users\\Lenovo\\anaconda3\\lib\\site-packages\\sklearn\\linear_model\\_logistic.py:762: ConvergenceWarning: lbfgs failed to converge (status=1):\n",
      "STOP: TOTAL NO. of ITERATIONS REACHED LIMIT.\n",
      "\n",
      "Increase the number of iterations (max_iter) or scale the data as shown in:\n",
      "    https://scikit-learn.org/stable/modules/preprocessing.html\n",
      "Please also refer to the documentation for alternative solver options:\n",
      "    https://scikit-learn.org/stable/modules/linear_model.html#logistic-regression\n",
      "  n_iter_i = _check_optimize_result(\n"
     ]
    },
    {
     "data": {
      "text/plain": [
       "LogisticRegression()"
      ]
     },
     "execution_count": 70,
     "metadata": {},
     "output_type": "execute_result"
    }
   ],
   "source": [
    "lo.fit(train,ytrain.argmax(axis=1))"
   ]
  },
  {
   "cell_type": "code",
   "execution_count": 71,
   "metadata": {},
   "outputs": [
    {
     "data": {
      "text/plain": [
       "array([7, 7, 4, ..., 3, 0, 5], dtype=int64)"
      ]
     },
     "execution_count": 71,
     "metadata": {},
     "output_type": "execute_result"
    }
   ],
   "source": [
    "lo.predict(test)"
   ]
  },
  {
   "cell_type": "code",
   "execution_count": 73,
   "metadata": {},
   "outputs": [
    {
     "data": {
      "text/plain": [
       "array([[1653,    9,   32,   61,    3,    4,  297,    0,   10,    0],\n",
       "       [   8, 1931,    6,   20,    4,    0,    3,    0,    0,    0],\n",
       "       [  34,    5, 1559,   15,  176,    1,  231,    1,   12,    0],\n",
       "       [ 111,   47,   21, 1743,   58,    0,   71,    0,   13,    0],\n",
       "       [   8,    4,  238,   72, 1620,    0,  176,    0,    5,    0],\n",
       "       [   2,    1,    2,    0,    0, 1846,    0,   79,   11,   33],\n",
       "       [ 177,    5,  188,   60,  172,    1, 1123,    0,   37,    0],\n",
       "       [   1,    1,    0,    1,    0,   83,    0, 1818,   13,   70],\n",
       "       [  25,    1,   19,    6,   10,   13,   33,    1, 1896,    0],\n",
       "       [   0,    0,    0,    0,    0,   35,    0,   59,    3, 1913]],\n",
       "      dtype=int64)"
      ]
     },
     "execution_count": 73,
     "metadata": {},
     "output_type": "execute_result"
    }
   ],
   "source": [
    "confusion_matrix(lo.predict(test),ytest.argmax(axis=1))"
   ]
  },
  {
   "cell_type": "code",
   "execution_count": 74,
   "metadata": {},
   "outputs": [
    {
     "name": "stdout",
     "output_type": "stream",
     "text": [
      "              precision    recall  f1-score   support\n",
      "\n",
      "           0       0.82      0.80      0.81      2069\n",
      "           1       0.96      0.98      0.97      1972\n",
      "           2       0.75      0.77      0.76      2034\n",
      "           3       0.88      0.84      0.86      2064\n",
      "           4       0.79      0.76      0.78      2123\n",
      "           5       0.93      0.94      0.93      1974\n",
      "           6       0.58      0.64      0.61      1763\n",
      "           7       0.93      0.91      0.92      1987\n",
      "           8       0.95      0.95      0.95      2004\n",
      "           9       0.95      0.95      0.95      2010\n",
      "\n",
      "    accuracy                           0.86     20000\n",
      "   macro avg       0.85      0.85      0.85     20000\n",
      "weighted avg       0.86      0.86      0.86     20000\n",
      "\n"
     ]
    }
   ],
   "source": [
    "print(classification_report(lo.predict(test),ytest.argmax(axis=1)))"
   ]
  },
  {
   "cell_type": "code",
   "execution_count": null,
   "metadata": {},
   "outputs": [],
   "source": []
  }
 ],
 "metadata": {
  "kernelspec": {
   "display_name": "Python 3",
   "language": "python",
   "name": "python3"
  },
  "language_info": {
   "codemirror_mode": {
    "name": "ipython",
    "version": 3
   },
   "file_extension": ".py",
   "mimetype": "text/x-python",
   "name": "python",
   "nbconvert_exporter": "python",
   "pygments_lexer": "ipython3",
   "version": "3.8.3"
  }
 },
 "nbformat": 4,
 "nbformat_minor": 4
}
